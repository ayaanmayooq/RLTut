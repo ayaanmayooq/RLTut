{
 "cells": [
  {
   "cell_type": "markdown",
   "id": "1f78febd",
   "metadata": {},
   "source": [
    "# 1. Installing required packages"
   ]
  },
  {
   "cell_type": "markdown",
   "id": "fbe68e99",
   "metadata": {},
   "source": [
    "OpenAI Gym"
   ]
  },
  {
   "cell_type": "code",
   "execution_count": 1,
   "id": "ee691fa2",
   "metadata": {},
   "outputs": [],
   "source": [
    "# !pip install gym"
   ]
  },
  {
   "cell_type": "markdown",
   "id": "dd00735e",
   "metadata": {},
   "source": [
    "PyTorch"
   ]
  },
  {
   "cell_type": "code",
   "execution_count": 2,
   "id": "c5851c62",
   "metadata": {},
   "outputs": [],
   "source": [
    "# !pip install torch torchvision torchaudio --index-url https://download.pytorch.org/whl/cu121"
   ]
  },
  {
   "cell_type": "markdown",
   "id": "64b8f9f5",
   "metadata": {},
   "source": [
    "Protobuf"
   ]
  },
  {
   "cell_type": "code",
   "execution_count": 3,
   "id": "396c7d37",
   "metadata": {},
   "outputs": [],
   "source": [
    "# !pip install stable-baselines3[extra] protobuf==3.20.*"
   ]
  },
  {
   "cell_type": "markdown",
   "id": "71a10d0c",
   "metadata": {},
   "source": [
    "To detect the GAME OVER"
   ]
  },
  {
   "cell_type": "code",
   "execution_count": 4,
   "id": "68143fdd",
   "metadata": {},
   "outputs": [],
   "source": [
    "# !pip install mss pydirectinput pytesseract"
   ]
  },
  {
   "cell_type": "code",
   "execution_count": 47,
   "id": "8b6dbb93",
   "metadata": {},
   "outputs": [],
   "source": [
    "#chrome://dino/"
   ]
  },
  {
   "cell_type": "code",
   "execution_count": 48,
   "id": "85061ee4",
   "metadata": {},
   "outputs": [],
   "source": [
    "# screen capture\n",
    "from mss import mss\n",
    "\n",
    "# commands\n",
    "import pydirectinput\n",
    "\n",
    "import cv2\n",
    "import numpy as np\n",
    "\n",
    "# GAME OVER extraction\n",
    "import pytesseract\n",
    "pytesseract.pytesseract.tesseract_cmd = r'C:\\\\Program Files\\\\Tesseract-OCR\\\\tesseract.exe'\n",
    "\n",
    "\n",
    "from matplotlib import pyplot as plt\n",
    "import time\n",
    "\n",
    "# Env components (OpenAI Gym)\n",
    "import gym\n",
    "from gym import Env\n",
    "from gym.spaces import Box, Discrete"
   ]
  },
  {
   "cell_type": "markdown",
   "id": "3514d6fe",
   "metadata": {},
   "source": [
    "tesseract issue: https://github.com/tesseract-ocr/tesseract/issues/1799"
   ]
  },
  {
   "cell_type": "markdown",
   "id": "c132e534",
   "metadata": {},
   "source": [
    "# 2. Build custom environment\n",
    "## 2.1 Create environment"
   ]
  },
  {
   "cell_type": "code",
   "execution_count": 184,
   "id": "f0a9a871",
   "metadata": {},
   "outputs": [],
   "source": [
    "class WebGame(gym.Env):\n",
    "    # Setup env, action, and observation shapes\n",
    "    def __init__(self):\n",
    "        super().__init__()\n",
    "        \n",
    "        # Setup spaces\n",
    "        self.observation_space = Box(low=0, high=255, shape=(1,50,100), dtype=np.uint8) # screen give\n",
    "        self.action_space = Discrete(3) # 3 actions\n",
    "        \n",
    "        # Capture game frames\n",
    "        self.cap = mss()\n",
    "        \n",
    "        # Pixel values for the required observations\n",
    "        self.game_location = {'top': 1300, 'left': 100, 'width': 1000, 'height': 500}\n",
    "        self.done_location = {'top': 1200, 'left': 1200, 'width': 1500, 'height': 140}\n",
    "    \n",
    "    # Doing something in the game\n",
    "    def step(self, action):\n",
    "        action_map = {\n",
    "            0:'space',\n",
    "            1: 'down', \n",
    "            2: 'no_op'\n",
    "        }\n",
    "        # If action input required\n",
    "        if action !=2:\n",
    "            pydirectinput.press(action_map[action])\n",
    "            \n",
    "        # Check if game is done\n",
    "        done, done_cap = self.get_done()\n",
    "        \n",
    "        # Get new observation\n",
    "        observation = self.get_observation()\n",
    "        \n",
    "        # Rewarding agent (can change to make it more complex)\n",
    "        reward = 1\n",
    "        info = {}\n",
    "        return observation, reward, done, info\n",
    "        \n",
    "    # Visualize game\n",
    "    # Needs fixing\n",
    "    def render(self):\n",
    "        cv2.imshow('Game', self.current_frame)\n",
    "        if cv2.waitKey(1) & 0xFF == ord('q'):\n",
    "            self.close()\n",
    "\n",
    "    \n",
    "    # Restart game\n",
    "    def reset(self):\n",
    "        time.sleep(1)\n",
    "        pydirectinput.click(x=150, y=150)\n",
    "        pydirectinput.press('space')\n",
    "        return self.get_observation()\n",
    "    \n",
    "    # Closes the observation\n",
    "    def close(self):\n",
    "        pass\n",
    "    # Get output of game\n",
    "    def get_observation(self):\n",
    "        # Get screen capture\n",
    "        raw = np.array(self.cap.grab(self.game_location))[:,:,:3].astype(np.uint8)\n",
    "        gray = cv2.cvtColor(raw, cv2.COLOR_BGR2GRAY)\n",
    "        resized = cv2.resize(gray, (100,50))\n",
    "        channel = np.reshape(resized, (1,50,100))\n",
    "        return channel\n",
    "    \n",
    "    # Get done text\n",
    "    def get_done(self):\n",
    "        done_cap = np.array(self.cap.grab(self.done_location))\n",
    "        done_strings = ['GAME', 'GAHE']\n",
    "        done=False\n",
    "        # if np.sum(done_cap) < 44300000:\n",
    "        #     done = True\n",
    "        done = False\n",
    "        res = pytesseract.image_to_string(done_cap)[:4]\n",
    "        if res in done_strings:\n",
    "            done = True\n",
    "        return done, done_cap"
   ]
  },
  {
   "cell_type": "markdown",
   "id": "d1f5c955",
   "metadata": {},
   "source": [
    "## 2.2 Test environment creation"
   ]
  },
  {
   "cell_type": "code",
   "execution_count": 185,
   "id": "363ce714",
   "metadata": {},
   "outputs": [],
   "source": [
    "env = WebGame()"
   ]
  },
  {
   "cell_type": "code",
   "execution_count": 186,
   "id": "6eaf55b7",
   "metadata": {},
   "outputs": [],
   "source": [
    "obs=env.get_observation()"
   ]
  },
  {
   "cell_type": "code",
   "execution_count": 187,
   "id": "6f8f4f62",
   "metadata": {},
   "outputs": [
    {
     "data": {
      "text/plain": [
       "<matplotlib.image.AxesImage at 0x1fa8d345130>"
      ]
     },
     "execution_count": 187,
     "metadata": {},
     "output_type": "execute_result"
    },
    {
     "data": {
      "image/png": "[encoded data removed]",
      "text/plain": [
       "<Figure size 432x288 with 1 Axes>"
      ]
     },
     "metadata": {
      "needs_background": "light"
     },
     "output_type": "display_data"
    }
   ],
   "source": [
    "plt.imshow(obs[0], cmap='gray')"
   ]
  },
  {
   "cell_type": "code",
   "execution_count": 188,
   "id": "4d2c69cd",
   "metadata": {},
   "outputs": [
    {
     "data": {
      "text/plain": [
       "True"
      ]
     },
     "execution_count": 188,
     "metadata": {},
     "output_type": "execute_result"
    }
   ],
   "source": [
    "done, done_cap = env.get_done()\n",
    "done"
   ]
  },
  {
   "cell_type": "code",
   "execution_count": 189,
   "id": "0620f7b6",
   "metadata": {},
   "outputs": [
    {
     "data": {
      "text/plain": [
       "<matplotlib.image.AxesImage at 0x1fa9504a6d0>"
      ]
     },
     "execution_count": 189,
     "metadata": {},
     "output_type": "execute_result"
    },
    {
     "data": {
      "image/png": "[encoded data removed]",
      "text/plain": [
       "<Figure size 432x288 with 1 Axes>"
      ]
     },
     "metadata": {
      "needs_background": "light"
     },
     "output_type": "display_data"
    }
   ],
   "source": [
    "plt.imshow(done_cap, cmap='gray')"
   ]
  },
  {
   "cell_type": "code",
   "execution_count": 190,
   "id": "c713af58",
   "metadata": {},
   "outputs": [],
   "source": [
    "# for episode in range(10): \n",
    "#     obs = env.reset()\n",
    "#     done = False  \n",
    "#     total_reward = 0\n",
    "#     while not done: \n",
    "#         obs, reward, done,info = env.step(env.action_space.sample())\n",
    "#         total_reward += reward\n",
    "#     print('Total Reward for episode {} is {}'.format(episode, total_reward))   "
   ]
  },
  {
   "cell_type": "markdown",
   "id": "ed6fd854",
   "metadata": {},
   "source": [
    "# 3. Train a model\n",
    "## 3.1 Create callback"
   ]
  },
  {
   "cell_type": "code",
   "execution_count": 191,
   "id": "6549b9ce",
   "metadata": {},
   "outputs": [],
   "source": [
    "# Import os for file path management\n",
    "import os \n",
    "# Import Base Callback for saving models\n",
    "from stable_baselines3.common.callbacks import BaseCallback\n",
    "# Check Environment    \n",
    "from stable_baselines3.common import env_checker"
   ]
  },
  {
   "cell_type": "code",
   "execution_count": 192,
   "id": "dff6d55c",
   "metadata": {},
   "outputs": [],
   "source": [
    "# env_checker.check_env(env)"
   ]
  },
  {
   "cell_type": "code",
   "execution_count": 193,
   "id": "a237a428",
   "metadata": {},
   "outputs": [],
   "source": [
    "class TrainAndLoggingCallback(BaseCallback):\n",
    "\n",
    "    def __init__(self, check_freq, save_path, verbose=1):\n",
    "        super(TrainAndLoggingCallback, self).__init__(verbose)\n",
    "        self.check_freq = check_freq\n",
    "        self.save_path = save_path\n",
    "\n",
    "    def _init_callback(self):\n",
    "        if self.save_path is not None:\n",
    "            os.makedirs(self.save_path, exist_ok=True)\n",
    "\n",
    "    def _on_step(self):\n",
    "        if self.n_calls % self.check_freq == 0:\n",
    "            model_path = os.path.join(self.save_path, 'best_model_{}'.format(self.n_calls))\n",
    "            self.model.save(model_path)\n",
    "\n",
    "        return True"
   ]
  },
  {
   "cell_type": "code",
   "execution_count": 194,
   "id": "733cb931",
   "metadata": {},
   "outputs": [],
   "source": [
    "CHECKPOINT_DIR = './train/'\n",
    "LOG_DIR = './logs/'"
   ]
  },
  {
   "cell_type": "code",
   "execution_count": 195,
   "id": "8200d058",
   "metadata": {},
   "outputs": [],
   "source": [
    "callback = TrainAndLoggingCallback(check_freq=500, save_path=CHECKPOINT_DIR)"
   ]
  },
  {
   "cell_type": "markdown",
   "id": "efca2f73",
   "metadata": {},
   "source": [
    "## 3.2 Build DQN and Train"
   ]
  },
  {
   "cell_type": "code",
   "execution_count": 196,
   "id": "977621c4",
   "metadata": {},
   "outputs": [],
   "source": [
    "from stable_baselines3 import DQN\n",
    "from stable_baselines3.common.monitor import Monitor\n",
    "from stable_baselines3.common.vec_env import DummyVecEnv, VecFrameStack"
   ]
  },
  {
   "cell_type": "code",
   "execution_count": 197,
   "id": "52e05e94",
   "metadata": {},
   "outputs": [],
   "source": [
    "env = WebGame()"
   ]
  },
  {
   "cell_type": "code",
   "execution_count": 198,
   "id": "783581f6",
   "metadata": {},
   "outputs": [
    {
     "name": "stdout",
     "output_type": "stream",
     "text": [
      "Using cuda device\n",
      "Wrapping the env with a `Monitor` wrapper\n",
      "Wrapping the env in a DummyVecEnv.\n"
     ]
    },
    {
     "name": "stderr",
     "output_type": "stream",
     "text": [
      "C:\\Users\\ayaan\\anaconda3\\lib\\site-packages\\stable_baselines3\\common\\vec_env\\patch_gym.py:49: UserWarning: You provided an OpenAI Gym environment. We strongly recommend transitioning to Gymnasium environments. Stable-Baselines3 is automatically wrapping your environments in a compatibility layer, which could potentially cause issues.\n",
      "  warnings.warn(\n"
     ]
    }
   ],
   "source": [
    "# Create DQN model\n",
    "model = DQN('CnnPolicy', env, tensorboard_log=LOG_DIR, verbose=1, buffer_size=400000, learning_starts=500)"
   ]
  },
  {
   "cell_type": "code",
   "execution_count": null,
   "id": "e5e80054",
   "metadata": {
    "scrolled": true
   },
   "outputs": [
    {
     "name": "stdout",
     "output_type": "stream",
     "text": [
      "Logging to ./logs/DQN_9\n",
      "----------------------------------\n",
      "| rollout/            |          |\n",
      "|    ep_len_mean      | 2.75     |\n",
      "|    ep_rew_mean      | 2.75     |\n",
      "|    exploration_rate | 0.995    |\n",
      "| time/               |          |\n",
      "|    episodes         | 4        |\n",
      "|    fps              | 0        |\n",
      "|    time_elapsed     | 13       |\n",
      "|    total_timesteps  | 11       |\n",
      "----------------------------------\n",
      "----------------------------------\n",
      "| rollout/            |          |\n",
      "|    ep_len_mean      | 5.62     |\n",
      "|    ep_rew_mean      | 5.62     |\n",
      "|    exploration_rate | 0.979    |\n",
      "| time/               |          |\n",
      "|    episodes         | 8        |\n",
      "|    fps              | 1        |\n",
      "|    time_elapsed     | 39       |\n",
      "|    total_timesteps  | 45       |\n",
      "----------------------------------\n",
      "----------------------------------\n",
      "| rollout/            |          |\n",
      "|    ep_len_mean      | 8.58     |\n",
      "|    ep_rew_mean      | 8.58     |\n",
      "|    exploration_rate | 0.951    |\n",
      "| time/               |          |\n",
      "|    episodes         | 12       |\n",
      "|    fps              | 1        |\n",
      "|    time_elapsed     | 81       |\n",
      "|    total_timesteps  | 103      |\n",
      "----------------------------------\n"
     ]
    }
   ],
   "source": [
    "# TRAINING\n",
    "model.learn(total_timesteps=20000, callback=callback)"
   ]
  },
  {
   "cell_type": "code",
   "execution_count": null,
   "id": "ffb7bfef",
   "metadata": {},
   "outputs": [],
   "source": []
  },
  {
   "cell_type": "code",
   "execution_count": 199,
   "id": "324524cc",
   "metadata": {},
   "outputs": [
    {
     "data": {
      "text/plain": [
       "<stable_baselines3.dqn.dqn.DQN at 0x1fa95057970>"
      ]
     },
     "execution_count": 199,
     "metadata": {},
     "output_type": "execute_result"
    }
   ],
   "source": [
    "model.load('train/best_model_3500') "
   ]
  },
  {
   "cell_type": "markdown",
   "id": "53144f69",
   "metadata": {},
   "source": [
    "# 4. Testing model"
   ]
  },
  {
   "cell_type": "code",
   "execution_count": 34,
   "id": "e0607c2e",
   "metadata": {},
   "outputs": [
    {
     "name": "stdout",
     "output_type": "stream",
     "text": [
      "Total Reward for episode 0 is 9\n",
      "Total Reward for episode 1 is 10\n",
      "Total Reward for episode 2 is 10\n",
      "Total Reward for episode 3 is 10\n",
      "Total Reward for episode 4 is 10\n"
     ]
    }
   ],
   "source": [
    "for episode in range(5): \n",
    "    obs = env.reset()\n",
    "    done = False\n",
    "    total_reward = 0\n",
    "    while not done: \n",
    "        action, _ = model.predict(obs)\n",
    "        obs, reward, done, info = env.step(int(action))\n",
    "        time.sleep(0.01)\n",
    "        total_reward += reward\n",
    "    print('Total Reward for episode {} is {}'.format(episode, total_reward))\n",
    "    time.sleep(2)"
   ]
  },
  {
   "cell_type": "code",
   "execution_count": null,
   "id": "8ec186e4",
   "metadata": {},
   "outputs": [],
   "source": []
  }
 ],
 "metadata": {
  "kernelspec": {
   "display_name": "Python 3 (ipykernel)",
   "language": "python",
   "name": "python3"
  },
  "language_info": {
   "codemirror_mode": {
    "name": "ipython",
    "version": 3
   },
   "file_extension": ".py",
   "mimetype": "text/x-python",
   "name": "python",
   "nbconvert_exporter": "python",
   "pygments_lexer": "ipython3",
   "version": "3.9.7"
  }
 },
 "nbformat": 4,
 "nbformat_minor": 5
}
